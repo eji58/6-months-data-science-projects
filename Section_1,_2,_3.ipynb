{
  "nbformat": 4,
  "nbformat_minor": 0,
  "metadata": {
    "colab": {
      "private_outputs": true,
      "provenance": [],
      "toc_visible": true,
      "authorship_tag": "ABX9TyOmKgZ4Rji4NHFF1M3Ff5m/",
      "include_colab_link": true
    },
    "kernelspec": {
      "name": "python3",
      "display_name": "Python 3"
    },
    "language_info": {
      "name": "python"
    }
  },
  "cells": [
    {
      "cell_type": "markdown",
      "metadata": {
        "id": "view-in-github",
        "colab_type": "text"
      },
      "source": [
        "<a href=\"https://colab.research.google.com/github/eji58/6-months-data-science-projects/blob/main/Section_1%2C_2%2C_3.ipynb\" target=\"_parent\"><img src=\"https://colab.research.google.com/assets/colab-badge.svg\" alt=\"Open In Colab\"/></a>"
      ]
    },
    {
      "cell_type": "markdown",
      "source": [
        "In this notebook, I will cover The Basic of Python Programing Language . After each section I will make a simple program as practice of the concepts.  \n",
        "\n",
        "enjoy :)\n",
        "\n"
      ],
      "metadata": {
        "id": "v1-8Blp6stsO"
      }
    },
    {
      "cell_type": "markdown",
      "source": [
        "\n",
        "## Section 1. Fundamentals\n",
        "\n",
        "1. Variables : explain  what variables are and how to create concise and meaningful variables.\n",
        "2. Strings : learn about string data and some basic string operations.\n",
        "3. Numbers : introduce the commonly-used number types including integers and floating-point numbers.\n",
        "4. Booleans : explain the Boolean data type, falsy and truthy values in Python.\n",
        "5. Constants : show how to define constants in Python.\n",
        "6. Comments : learn how to make notes in your code.\n",
        "7. Type conversion : learn how to convert a value of one type to another e.g., converting a string to a number.\n",
        "\n",
        "\n",
        "\n"
      ],
      "metadata": {
        "id": "2Gl7A2GLNedy"
      }
    },
    {
      "cell_type": "code",
      "execution_count": null,
      "metadata": {
        "id": "yE-dmHJPsT07"
      },
      "outputs": [],
      "source": [
        "print(\"Hello Word\")"
      ]
    },
    {
      "cell_type": "markdown",
      "source": [
        "**Variables**"
      ],
      "metadata": {
        "id": "1842r606ZJNg"
      }
    },
    {
      "cell_type": "code",
      "source": [
        "a = 10 \n",
        "print(a)"
      ],
      "metadata": {
        "id": "Gf4IS-crskX8"
      },
      "execution_count": null,
      "outputs": []
    },
    {
      "cell_type": "code",
      "source": [
        "b = 0.44\n",
        "print(b)"
      ],
      "metadata": {
        "id": "lESUbbOIskUh"
      },
      "execution_count": null,
      "outputs": []
    },
    {
      "cell_type": "code",
      "source": [
        "c = \"Ersaa\"\n",
        "print(c)"
      ],
      "metadata": {
        "id": "4BTxJgwiskR8"
      },
      "execution_count": null,
      "outputs": []
    },
    {
      "cell_type": "code",
      "source": [
        "d = True \n",
        "print(d)"
      ],
      "metadata": {
        "id": "xJHTqSCsv_tJ"
      },
      "execution_count": null,
      "outputs": []
    },
    {
      "cell_type": "markdown",
      "source": [
        "**Type and type function**"
      ],
      "metadata": {
        "id": "RVC-qMDOZT8q"
      }
    },
    {
      "cell_type": "code",
      "source": [
        "print(a)\n",
        "print(type(a))"
      ],
      "metadata": {
        "id": "sAijEvdBskPa"
      },
      "execution_count": null,
      "outputs": []
    },
    {
      "cell_type": "code",
      "source": [
        "print(a + b)\n",
        "print(type(a+b))"
      ],
      "metadata": {
        "id": "HKhrl6ClwzGp"
      },
      "execution_count": null,
      "outputs": []
    },
    {
      "cell_type": "code",
      "source": [
        "print(b)\n",
        "print(type(b))"
      ],
      "metadata": {
        "id": "dKksD_5KskMl"
      },
      "execution_count": null,
      "outputs": []
    },
    {
      "cell_type": "code",
      "source": [
        "print(c)\n",
        "print(type(c))"
      ],
      "metadata": {
        "id": "S93Ws_GpskJ2"
      },
      "execution_count": null,
      "outputs": []
    },
    {
      "cell_type": "code",
      "source": [
        "Fname=\"Esraa \"\n",
        "Lname=\"Sultan \"\n",
        "print(Fname + Lname) "
      ],
      "metadata": {
        "id": "umJ5ogyvw_pR"
      },
      "execution_count": null,
      "outputs": []
    },
    {
      "cell_type": "code",
      "source": [
        "print(d)\n",
        "print(type(d))"
      ],
      "metadata": {
        "id": "_HpwyEXoskHL"
      },
      "execution_count": null,
      "outputs": []
    },
    {
      "cell_type": "markdown",
      "source": [
        "Python doesn’t support **constants**.\n",
        "\n",
        "To work around this, you use all capital letters to name a variable to indicate that the variable should be treated as a constant. For example:\n",
        "\n"
      ],
      "metadata": {
        "id": "y4pGy5i9x3en"
      }
    },
    {
      "cell_type": "code",
      "source": [
        "# For example:   <-- this is a Comment conversion  \n",
        "FILE_SIZE_LIMIT = 2000"
      ],
      "metadata": {
        "id": "psha2HHNyCWH"
      },
      "execution_count": null,
      "outputs": []
    },
    {
      "cell_type": "markdown",
      "source": [
        "Input User"
      ],
      "metadata": {
        "id": "49HAxSvzxjzP"
      }
    },
    {
      "cell_type": "code",
      "source": [
        "x = input()\n",
        "print(x)"
      ],
      "metadata": {
        "id": "ObC2otpPxjgA"
      },
      "execution_count": null,
      "outputs": []
    },
    {
      "cell_type": "code",
      "source": [
        "x = input(\"enter your name:\")\n",
        "print(\"Hi\", x)"
      ],
      "metadata": {
        "id": "zyVWOIV6sj-7"
      },
      "execution_count": null,
      "outputs": []
    },
    {
      "cell_type": "markdown",
      "source": [
        "Conversion "
      ],
      "metadata": {
        "id": "3-48oT0fzp7M"
      }
    },
    {
      "cell_type": "code",
      "source": [
        "a = 10.44\n",
        "print(type(a))\n",
        "#covert float to int \n",
        "b = int(a)\n",
        "print(b, type(b))"
      ],
      "metadata": {
        "id": "TQJxCYa6sjh6"
      },
      "execution_count": null,
      "outputs": []
    },
    {
      "cell_type": "code",
      "source": [
        "a = \"10\"\n",
        "print(type(a))\n",
        "#covert str to int \n",
        "b = int(a)\n",
        "print(b, type(b))"
      ],
      "metadata": {
        "id": "Az5EcezFZL_2"
      },
      "execution_count": null,
      "outputs": []
    },
    {
      "cell_type": "markdown",
      "source": [
        "\n",
        "## Section 2. Operators\n",
        "\n",
        "Python divides the operators in the following groups:\n",
        "\n",
        "1. Arithmetic operators : to compare two values.\n",
        "2. Assignment operators : to assign values to variables.\n",
        "3. Comparison operators : to compare two values\n",
        "4. Logical operators :  to combine conditional statements.\n",
        "5. Identity operators : to compare the objects, not if they are equal, but if they are actually the same object, with the same memory location.\n",
        "6. Membership operators : to test if a sequence is presented in an object.\n",
        "7. Bitwise operators : to compare (binary) numbers\n",
        "\n",
        "\n"
      ],
      "metadata": {
        "id": "dBGz7XZaXGXg"
      }
    },
    {
      "cell_type": "code",
      "source": [
        "x= 10\n",
        "y= 5\n",
        "z= 3"
      ],
      "metadata": {
        "id": "J1fVFpH21vb7"
      },
      "execution_count": null,
      "outputs": []
    },
    {
      "cell_type": "code",
      "source": [
        "# Arithmetic\n",
        "# Addition\n",
        "print(x+y)\n",
        "# Subtraction\n",
        "print(x-y)\n",
        "# Multiplication\n",
        "print(x*y)\n",
        "# Division\n",
        "print(x/y)\n",
        "# Modulus\n",
        "print(x%y)\n",
        "# Exponentiation\n",
        "print(x**y)\n",
        "# Floor division\n",
        "print(x//y)\n"
      ],
      "metadata": {
        "id": "WwZAPEjHZYzt"
      },
      "execution_count": null,
      "outputs": []
    },
    {
      "cell_type": "code",
      "source": [
        "# Assignment\n",
        "x=17\n",
        "x += 3\t\n",
        "print(x)\t\n",
        "x -= 3\t\n",
        "print(x)\t\n",
        "x *= 3\n",
        "print(x)\t\n",
        "x /= 3\n",
        "print(x)\t\n",
        "x %= 3\t\n",
        "print(x)\n",
        "x //= 3\t\n",
        "print(x)"
      ],
      "metadata": {
        "id": "LFuFiMgwZYuS"
      },
      "execution_count": null,
      "outputs": []
    },
    {
      "cell_type": "code",
      "source": [
        "x=10\n",
        "x **= 3\n",
        "print(x)\n",
        "x &= 3\n",
        "print(x)\t\n",
        "x |= 3\n",
        "print(x)\t\n",
        "x ^= 3\n",
        "print(x)\t\n",
        "x >>= 3\n",
        "print(x)\t\n",
        "x <<= 3"
      ],
      "metadata": {
        "id": "QAeq4xx35MnX"
      },
      "execution_count": null,
      "outputs": []
    },
    {
      "cell_type": "code",
      "source": [
        "# Comparison \n",
        "# Equal\t\n",
        "print(x == y)\t\n",
        "# Not equal\n",
        "print(x != y)\t\n",
        "# Greater than\n",
        "print(x > y)\n",
        "# Less than\t\n",
        "print(x < y)\n",
        "# Greater than or equal to\t\n",
        "print(x >= y)\n",
        "# Less than or equal to\t\n",
        "print(x <= y)\n",
        "\n"
      ],
      "metadata": {
        "id": "97oevEynYbeY"
      },
      "execution_count": null,
      "outputs": []
    },
    {
      "cell_type": "code",
      "source": [
        "# Logical \n",
        "print(x)\n",
        "# and\n",
        "print(x < 5 and  x > 10\t)\n",
        "# or\n",
        "print(x < 5 or x < 4)\n",
        "# not\t\n",
        "print(not(x < 5 and x > 10))"
      ],
      "metadata": {
        "id": "HQ-WfvdX1VNS"
      },
      "execution_count": null,
      "outputs": []
    },
    {
      "cell_type": "code",
      "source": [
        "# Identity \n",
        "a = \"Esraa Sultan\"\n",
        "b = \" Sultan AlZahrani\"\n",
        "c = b\n",
        "\n",
        "# is \n",
        "print(a is b )\n",
        "print(c is b )\n",
        "# is not\n",
        "print(a is not b )\n",
        "print(c is not b )"
      ],
      "metadata": {
        "id": "oysv_LKO1VJ0"
      },
      "execution_count": null,
      "outputs": []
    },
    {
      "cell_type": "code",
      "source": [
        "# Membership \n",
        "a = [\"Esraa\",\"Sultan\"]\n",
        "b = \"Sultan\"\n",
        "c = b\n",
        "\n",
        "# in \n",
        "print(b in a )\n",
        "print(c in b )\n",
        "# not in\n",
        "print(b not in a)\n",
        "print(c not in b )"
      ],
      "metadata": {
        "id": "VQPNp3UN1VHE"
      },
      "execution_count": null,
      "outputs": []
    },
    {
      "cell_type": "code",
      "source": [
        "# Bitwise \n",
        "\n",
        "\"\"\"\n",
        "The & operator compares each bit and set it to 1 if both are 1, otherwise it is set to 0:\n",
        "\n",
        "6 = 0000000000000110\n",
        "3 = 0000000000000011\n",
        "--------------------\n",
        "2 = 0000000000000010\n",
        "====================\n",
        "\"\"\"\n",
        "print(6 & 3)\n",
        "\n",
        "# the other Bitwise oerators | or, ^ xor, ~ not, << left shift, >> right shift\n",
        "# Note: we will use it on the regular expression later:)"
      ],
      "metadata": {
        "id": "8ZMmMTiM1VEf"
      },
      "execution_count": null,
      "outputs": []
    },
    {
      "cell_type": "markdown",
      "source": [
        "\n",
        "## Section 3. Data Collections\n",
        "\n",
        "python used collection to store data, for example, lists, dictionaries, sets, and tuples, all of which are built-in collections.\n",
        "\n",
        "\n",
        "1. Lists : a list is a collection of ***ordered*** and ***mutable*** data and  allow duplicates\n",
        "2. Tuples : a tuple is an ***ordered*** and ***immutable*** collection of data and  allow duplicates\n",
        "3. Sets : a set is an ***unordered*** and ***mutable*** collection and  does not allow duplicates.\n",
        "4. Dictionaries : a dictionary is an ***unordered*** and ***mutable*** collection of data that stores data in key-value pairs and keys do not allow duplicates.\n"
      ],
      "metadata": {
        "id": "32wY6zQUYcDa"
      }
    },
    {
      "cell_type": "markdown",
      "source": [
        "### **Lists:**\n",
        "* List Basics\n",
        "* List Operations\n",
        "* List Comprehensions / Slicing\n",
        "* List Methods"
      ],
      "metadata": {
        "id": "Q3Ng0AZfH-cu"
      }
    },
    {
      "cell_type": "code",
      "source": [
        "# colliction of different type of elements\n",
        "l=[10,20,30]\n",
        "print(l)"
      ],
      "metadata": {
        "id": "0SaJvw9DH-En"
      },
      "execution_count": null,
      "outputs": []
    },
    {
      "cell_type": "code",
      "source": [
        "print(type(l))"
      ],
      "metadata": {
        "id": "Cj4FTRtZHKRJ"
      },
      "execution_count": null,
      "outputs": []
    },
    {
      "cell_type": "code",
      "source": [
        "l2=[10,\"A\",4.55]\n",
        "l2"
      ],
      "metadata": {
        "id": "Pz2xOqLTHKHC"
      },
      "execution_count": null,
      "outputs": []
    },
    {
      "cell_type": "code",
      "source": [
        "print(l[0],type(l[0]))"
      ],
      "metadata": {
        "id": "tSf-ZQAaIq5C"
      },
      "execution_count": null,
      "outputs": []
    },
    {
      "cell_type": "code",
      "source": [
        "# indexing\n",
        "l[2]"
      ],
      "metadata": {
        "id": "1gyZKMehHKDt"
      },
      "execution_count": null,
      "outputs": []
    },
    {
      "cell_type": "code",
      "source": [
        "#  -3, -2, -1\n",
        "# [10, 40, 30]\n",
        "# negative index\n",
        "l[-1]"
      ],
      "metadata": {
        "id": "k_a7zGh8JSTu"
      },
      "execution_count": null,
      "outputs": []
    },
    {
      "cell_type": "markdown",
      "source": [
        "Operations:\n",
        "\n",
        "Modifying, Adding, and Removing elements"
      ],
      "metadata": {
        "id": "-TXozwL2KG5s"
      }
    },
    {
      "cell_type": "code",
      "source": [
        "# reassignment\n",
        "l[1]=40\n",
        "l"
      ],
      "metadata": {
        "id": "wiNKrEQ8HJ7y"
      },
      "execution_count": null,
      "outputs": []
    },
    {
      "cell_type": "code",
      "source": [
        "l[1]*=2 # l[1]  = l[1] * 2\n",
        "l"
      ],
      "metadata": {
        "id": "Qkj4hOG6JSQU"
      },
      "execution_count": null,
      "outputs": []
    },
    {
      "cell_type": "code",
      "source": [
        "l.append(40)\n",
        "l"
      ],
      "metadata": {
        "id": "7jTH0BlfJSIh"
      },
      "execution_count": null,
      "outputs": []
    },
    {
      "cell_type": "code",
      "source": [
        "#index,element\n",
        "l.insert(2,70)\n",
        "l"
      ],
      "metadata": {
        "id": "t1nq8o8oJSE8"
      },
      "execution_count": null,
      "outputs": []
    },
    {
      "cell_type": "code",
      "source": [
        "# by index\n",
        "del l[3]\n",
        "l"
      ],
      "metadata": {
        "id": "F2uqi-aLJR_o"
      },
      "execution_count": null,
      "outputs": []
    },
    {
      "cell_type": "code",
      "source": [
        "# by element\n",
        "l.remove(10)\n",
        "l"
      ],
      "metadata": {
        "id": "m1i9SrvOLxBa"
      },
      "execution_count": null,
      "outputs": []
    },
    {
      "cell_type": "code",
      "source": [
        "n= l.pop()\n",
        "l,n"
      ],
      "metadata": {
        "id": "EPnu6LN8LZl_"
      },
      "execution_count": null,
      "outputs": []
    },
    {
      "cell_type": "markdown",
      "source": [
        "Slicing"
      ],
      "metadata": {
        "id": "8nxkEOgAMdrV"
      }
    },
    {
      "cell_type": "code",
      "source": [
        "# list[begin: end]\n",
        "colors = ['red', 'orange', 'yellow', 'green', 'blue', 'indigo', 'violet']\n",
        "sub_colors = colors[1:4]\n",
        "sub_colors"
      ],
      "metadata": {
        "id": "YboqNfM9Mn31"
      },
      "execution_count": null,
      "outputs": []
    },
    {
      "cell_type": "code",
      "source": [
        "# list[begin: end: step]\n",
        "sub_colors = colors[0:6:2]\n",
        "sub_colors"
      ],
      "metadata": {
        "id": "M3kTP0TOMn1O"
      },
      "execution_count": null,
      "outputs": []
    },
    {
      "cell_type": "code",
      "source": [
        "# n-first elements \n",
        "sub_colors = colors[:2]\n",
        "sub_colors\n"
      ],
      "metadata": {
        "id": "wpODqPo7MnyY"
      },
      "execution_count": null,
      "outputs": []
    },
    {
      "cell_type": "code",
      "source": [
        "# n-last elements \n",
        "sub_colors = colors[3:]\n",
        "sub_colors"
      ],
      "metadata": {
        "id": "z-2WLPtaMnvM"
      },
      "execution_count": null,
      "outputs": []
    },
    {
      "cell_type": "code",
      "source": [
        "# slice to reverse using negative index\n",
        "sub_colors = colors[:-2]\n",
        "sub_colors\n"
      ],
      "metadata": {
        "id": "UNRh4IcXMnAJ"
      },
      "execution_count": null,
      "outputs": []
    },
    {
      "cell_type": "code",
      "source": [
        "# substitute \n",
        "colors[0:2] = ['black', 'white']\n",
        "colors"
      ],
      "metadata": {
        "id": "I_J899dYRDDI"
      },
      "execution_count": null,
      "outputs": []
    },
    {
      "cell_type": "code",
      "source": [
        "# List comprehensions: create a new list based on an existing list.\n",
        "lis1=[1,2,3,4,5,6,7,8]\n",
        "seq=[]\n",
        "\n",
        "for i in lis1:\n",
        "  seq.append(i**2)\n",
        "\n",
        "seq"
      ],
      "metadata": {
        "id": "PDe8n6ecSKXy"
      },
      "execution_count": null,
      "outputs": []
    },
    {
      "cell_type": "markdown",
      "source": [
        "Methods:\n",
        "\n",
        "Clear, Copy, Sort, Count..."
      ],
      "metadata": {
        "id": "rKYMKauWTRxN"
      }
    },
    {
      "cell_type": "code",
      "source": [
        "l=[0,1,2,3,4,5,6,7,8]\n",
        "l2=l.copy()\n",
        "l2"
      ],
      "metadata": {
        "id": "BUcytxEOTRFx"
      },
      "execution_count": null,
      "outputs": []
    },
    {
      "cell_type": "code",
      "source": [
        "l.insert(3,9)\n",
        "l"
      ],
      "metadata": {
        "id": "qRNZRkzVTsFb"
      },
      "execution_count": null,
      "outputs": []
    },
    {
      "cell_type": "code",
      "source": [
        "l.sort()\n",
        "l"
      ],
      "metadata": {
        "id": "HLm4X8Q1T7Zx"
      },
      "execution_count": null,
      "outputs": []
    },
    {
      "cell_type": "code",
      "source": [
        "Length=len(l)\n",
        "Length"
      ],
      "metadata": {
        "id": "pndyLHfPT_xX"
      },
      "execution_count": null,
      "outputs": []
    },
    {
      "cell_type": "code",
      "source": [
        "l.append(9)\n",
        "l.append(9)\n",
        "l"
      ],
      "metadata": {
        "id": "xQlZeXpPUftt"
      },
      "execution_count": null,
      "outputs": []
    },
    {
      "cell_type": "code",
      "source": [
        "l.count(9)"
      ],
      "metadata": {
        "id": "LO1Q-PBdUocr"
      },
      "execution_count": null,
      "outputs": []
    },
    {
      "cell_type": "markdown",
      "source": [
        "### **Tuples:**\n",
        "\n",
        "* Tuples Basics\n",
        "* Tuples Comprehensions / Slicing\n",
        "* Tuple Functions\n",
        "* Tuple Methods"
      ],
      "metadata": {
        "id": "LmpHckoxU-Aq"
      }
    },
    {
      "cell_type": "code",
      "source": [
        "t=(10,20,30)\n",
        "t"
      ],
      "metadata": {
        "id": "tMw8VvhPU9bz"
      },
      "execution_count": null,
      "outputs": []
    },
    {
      "cell_type": "code",
      "source": [
        "type(t)"
      ],
      "metadata": {
        "id": "QavHCjIsVQGM"
      },
      "execution_count": null,
      "outputs": []
    },
    {
      "cell_type": "code",
      "source": [
        "t[0]"
      ],
      "metadata": {
        "id": "t6s1hzGYVQC9"
      },
      "execution_count": null,
      "outputs": []
    },
    {
      "cell_type": "code",
      "source": [
        "x=(10)\n",
        "x, type(x)"
      ],
      "metadata": {
        "id": "n3mXn9noVP_f"
      },
      "execution_count": null,
      "outputs": []
    },
    {
      "cell_type": "markdown",
      "source": [
        "unpacking"
      ],
      "metadata": {
        "id": "qJ3h5uBfxDbZ"
      }
    },
    {
      "cell_type": "code",
      "source": [
        "a,b,c=t\n",
        "a,b,c"
      ],
      "metadata": {
        "id": "B7NS-eq9xIOc"
      },
      "execution_count": null,
      "outputs": []
    },
    {
      "cell_type": "code",
      "source": [
        "t=(1,2,3,4,\"A\",\"B\")\n",
        "t, type(t)"
      ],
      "metadata": {
        "id": "TQ2_jEqFVP8f"
      },
      "execution_count": null,
      "outputs": []
    },
    {
      "cell_type": "markdown",
      "source": [
        "swapping two number without thrid var"
      ],
      "metadata": {
        "id": "65jOA0GdxZUR"
      }
    },
    {
      "cell_type": "code",
      "source": [
        "a,b=10,20\n",
        "print(\"a=\",a,\" b=\",b)\n",
        "b,a=a,b\n",
        "print(\"a=\",a,\" b=\",b)"
      ],
      "metadata": {
        "id": "YFiGTK4WVP4R"
      },
      "execution_count": null,
      "outputs": []
    },
    {
      "cell_type": "markdown",
      "source": [
        "Slicing"
      ],
      "metadata": {
        "id": "-bovdwIdyAuk"
      }
    },
    {
      "cell_type": "code",
      "source": [
        "#                                -1\n",
        "t = (11,22,33,44,55,66,77,88,99,100)\n",
        "#    0  1\n",
        "t"
      ],
      "metadata": {
        "id": "Tokd5WiiyAih"
      },
      "execution_count": null,
      "outputs": []
    },
    {
      "cell_type": "code",
      "source": [
        "t[3:5]"
      ],
      "metadata": {
        "id": "yEqh-YmxzXv7"
      },
      "execution_count": null,
      "outputs": []
    },
    {
      "cell_type": "code",
      "source": [
        "t[-7:-3]"
      ],
      "metadata": {
        "id": "6-9KLBASzXtA"
      },
      "execution_count": null,
      "outputs": []
    },
    {
      "cell_type": "code",
      "source": [
        "t[0:9:2]"
      ],
      "metadata": {
        "id": "ujRqPpL6zXqM"
      },
      "execution_count": null,
      "outputs": []
    },
    {
      "cell_type": "markdown",
      "source": [
        "functions:\n",
        "\n",
        "len, max, min, sum...."
      ],
      "metadata": {
        "id": "KD0vx45zz4HR"
      }
    },
    {
      "cell_type": "code",
      "source": [
        "t = (2,3,4,5,6,7)\n",
        "print(len(t))\n",
        "print(max(t))\n",
        "print(min(t))\n",
        "print(sum(t))"
      ],
      "metadata": {
        "id": "Ov4NHgZozXhS"
      },
      "execution_count": null,
      "outputs": []
    },
    {
      "cell_type": "markdown",
      "source": [
        "methods:\n",
        "\n",
        "count, index\n",
        "\n",
        "immutable meaning it can't add or delete or reassignment an element"
      ],
      "metadata": {
        "id": "AylCzRU30D-p"
      }
    },
    {
      "cell_type": "code",
      "source": [
        "t = (2,3,4,5,6,7,7,7,8,8)"
      ],
      "metadata": {
        "id": "4PCsKPU009jz"
      },
      "execution_count": null,
      "outputs": []
    },
    {
      "cell_type": "code",
      "source": [
        "t.index(4)"
      ],
      "metadata": {
        "id": "nz1bD4i30DsD"
      },
      "execution_count": null,
      "outputs": []
    },
    {
      "cell_type": "code",
      "source": [
        "t.count(7)"
      ],
      "metadata": {
        "id": "SJOE3c_l0Din"
      },
      "execution_count": null,
      "outputs": []
    },
    {
      "cell_type": "markdown",
      "source": [
        "### **Set:**\n",
        "\n",
        "* Sets Basics\n",
        "* Sets Operations\n",
        "* Union\n",
        "* Intersection\n",
        "* Difference and Symmetric Difference"
      ],
      "metadata": {
        "id": "U6czwLms2ADw"
      }
    },
    {
      "cell_type": "code",
      "source": [
        "# unorder so does not allow duplicate\n",
        "s={1,2,3,4,5,6,6}\n",
        "s"
      ],
      "metadata": {
        "id": "z8pi7cdR1_HR"
      },
      "execution_count": null,
      "outputs": []
    },
    {
      "cell_type": "code",
      "source": [
        "type(s)"
      ],
      "metadata": {
        "id": "tPbzD-5JKDpr"
      },
      "execution_count": null,
      "outputs": []
    },
    {
      "cell_type": "code",
      "source": [
        "print(3 in s)"
      ],
      "metadata": {
        "id": "ikZiaieeKDmE"
      },
      "execution_count": null,
      "outputs": []
    },
    {
      "cell_type": "code",
      "source": [
        "print(7 in s)"
      ],
      "metadata": {
        "id": "iezzEQUhKDjU"
      },
      "execution_count": null,
      "outputs": []
    },
    {
      "cell_type": "markdown",
      "source": [
        "operations:\n",
        "\n",
        "* Intersection : A ∩ B all elements which are in both.\n",
        "* Union :\tA ∪ B all elements which are in either or (or both).\n",
        "* Difference : A − B all elements which are in but not in both.\n",
        "* Symmtric : (or) all elements which are not in both."
      ],
      "metadata": {
        "id": "5O8rv2xaPHH4"
      }
    },
    {
      "cell_type": "code",
      "source": [
        "s1={1,2,3,4,5,6}\n",
        "s2={4,5,6,7,8,9}"
      ],
      "metadata": {
        "id": "W69s_kORebO5"
      },
      "execution_count": null,
      "outputs": []
    },
    {
      "cell_type": "code",
      "source": [
        "#  intersaction\n",
        "s1.intersection(s2)"
      ],
      "metadata": {
        "id": "V8MMczuiPG2N"
      },
      "execution_count": null,
      "outputs": []
    },
    {
      "cell_type": "code",
      "source": [
        "#  union\n",
        "s1.union(s2)"
      ],
      "metadata": {
        "id": "53F9yX5xRFsS"
      },
      "execution_count": null,
      "outputs": []
    },
    {
      "cell_type": "code",
      "source": [
        "# difference\n",
        "s1.difference(s2)"
      ],
      "metadata": {
        "id": "e7xkF0SjRFpk"
      },
      "execution_count": null,
      "outputs": []
    },
    {
      "cell_type": "code",
      "source": [
        "s2.difference(s1)"
      ],
      "metadata": {
        "id": "B93KxBH7RFmg"
      },
      "execution_count": null,
      "outputs": []
    },
    {
      "cell_type": "code",
      "source": [
        "# symmtric\n",
        "s1.symmetric_difference(s2)"
      ],
      "metadata": {
        "id": "-JKdFhELRFjt"
      },
      "execution_count": null,
      "outputs": []
    },
    {
      "cell_type": "markdown",
      "source": [
        "methods:\n",
        "\n",
        "add, pop, clear, remove..."
      ],
      "metadata": {
        "id": "55bcY66cPVTG"
      }
    },
    {
      "cell_type": "code",
      "source": [
        "set1={'AA','BB','CC'}\n",
        "set1.add('DD')\n",
        "set1"
      ],
      "metadata": {
        "id": "YbmMuHnsKDg4"
      },
      "execution_count": null,
      "outputs": []
    },
    {
      "cell_type": "code",
      "source": [
        "set1, set1.pop()"
      ],
      "metadata": {
        "id": "ikzOcMobcwW8"
      },
      "execution_count": null,
      "outputs": []
    },
    {
      "cell_type": "markdown",
      "source": [
        "functions:\n",
        "\n",
        "len, max, min, sum...."
      ],
      "metadata": {
        "id": "B9b9_mTwTFbB"
      }
    },
    {
      "cell_type": "code",
      "source": [
        "s = {2,3,4,5,6,7}\n",
        "print(len(s))\n",
        "print(max(s))\n",
        "print(min(s))\n",
        "print(sum(s))"
      ],
      "metadata": {
        "id": "vGrPGY8jTFbK"
      },
      "execution_count": null,
      "outputs": []
    },
    {
      "cell_type": "markdown",
      "source": [
        "**Frozenset**"
      ],
      "metadata": {
        "id": "ucyzaf0ddkGu"
      }
    },
    {
      "cell_type": "code",
      "source": [
        "fs=frozenset([1,2,3,4,5]) #immutable \n",
        "fs"
      ],
      "metadata": {
        "id": "7iz6MD0wdcYd"
      },
      "execution_count": null,
      "outputs": []
    },
    {
      "cell_type": "code",
      "source": [
        "type(fs)"
      ],
      "metadata": {
        "id": "8AZ3_lbydcU0"
      },
      "execution_count": null,
      "outputs": []
    },
    {
      "cell_type": "code",
      "source": [],
      "metadata": {
        "id": "OB2qthCadcNm"
      },
      "execution_count": null,
      "outputs": []
    },
    {
      "cell_type": "markdown",
      "source": [
        "### **Dictionary:**\n",
        "\n",
        "* Dictionaries Basics\n",
        "* Operations\n",
        "* Comprehensions\n",
        "* Dictionaries Methods"
      ],
      "metadata": {
        "id": "E7vV1RxK2jtL"
      }
    },
    {
      "cell_type": "code",
      "source": [
        "# like javascript objects\n",
        "{\n",
        "    \"name\":\"esraa\",\n",
        "    \"age\":25\n",
        "}\n"
      ],
      "metadata": {
        "id": "1bvzDKw1KEy1"
      },
      "execution_count": null,
      "outputs": []
    },
    {
      "cell_type": "code",
      "source": [
        "d={1:\"first\",2:\"second\",3:\"thrid\"}\n",
        "d"
      ],
      "metadata": {
        "id": "fUa7CakkKEvd"
      },
      "execution_count": null,
      "outputs": []
    },
    {
      "cell_type": "code",
      "source": [
        "type(d)"
      ],
      "metadata": {
        "id": "reusdxxqKEol"
      },
      "execution_count": null,
      "outputs": []
    },
    {
      "cell_type": "markdown",
      "source": [
        "access by the key, not by the value or index becasue the dictionary is unordered"
      ],
      "metadata": {
        "id": "0j7nU7rZbtwj"
      }
    },
    {
      "cell_type": "code",
      "source": [
        "d[1]"
      ],
      "metadata": {
        "id": "FP6mzybbKEk-"
      },
      "execution_count": null,
      "outputs": []
    },
    {
      "cell_type": "code",
      "source": [
        "d['orange'] = \"hello there\"\n",
        "d"
      ],
      "metadata": {
        "id": "SCL74JbvKEh4"
      },
      "execution_count": null,
      "outputs": []
    },
    {
      "cell_type": "code",
      "source": [
        "d['orange']"
      ],
      "metadata": {
        "id": "YDHljzCLbEbr"
      },
      "execution_count": null,
      "outputs": []
    },
    {
      "cell_type": "markdown",
      "source": [
        "Operations:\n",
        "\n",
        "Modifying, Adding, and Removing "
      ],
      "metadata": {
        "id": "_maq1KCbe6O0"
      }
    },
    {
      "cell_type": "code",
      "source": [
        "d"
      ],
      "metadata": {
        "id": "FpPnzQZ5e5-G"
      },
      "execution_count": null,
      "outputs": []
    },
    {
      "cell_type": "code",
      "source": [
        "d[1]=\"last\"\n",
        "d"
      ],
      "metadata": {
        "id": "L9_DJdmEe_jK"
      },
      "execution_count": null,
      "outputs": []
    },
    {
      "cell_type": "code",
      "source": [
        "d[\"before\"]=\"Hi\"\n",
        "d"
      ],
      "metadata": {
        "id": "67ueVdK3e_gO"
      },
      "execution_count": null,
      "outputs": []
    },
    {
      "cell_type": "code",
      "source": [
        "del d[2]\n",
        "d"
      ],
      "metadata": {
        "id": "GoDqGWmFe_dI"
      },
      "execution_count": null,
      "outputs": []
    },
    {
      "cell_type": "markdown",
      "source": [
        "methods:\n",
        "\n",
        "get, copy, clear, remove, keys, value, pop, update..."
      ],
      "metadata": {
        "id": "j8RpkZSEe9YN"
      }
    },
    {
      "cell_type": "code",
      "source": [
        "d={1: \"One\", 2: \"Two\", 3: \"Three\", 4: \"four\", 5: \"five\"}\n",
        "d"
      ],
      "metadata": {
        "id": "r2b7v9dmbEYS"
      },
      "execution_count": null,
      "outputs": []
    },
    {
      "cell_type": "code",
      "source": [
        "d.get(2)"
      ],
      "metadata": {
        "id": "F31iZVksbEV_"
      },
      "execution_count": null,
      "outputs": []
    },
    {
      "cell_type": "code",
      "source": [
        "print(d.get(21)) #out of value "
      ],
      "metadata": {
        "id": "UBlIqI8Xj7y-"
      },
      "execution_count": null,
      "outputs": []
    },
    {
      "cell_type": "code",
      "source": [
        "c=d.copy()\n",
        "c"
      ],
      "metadata": {
        "id": "kzaNsUroj7vg"
      },
      "execution_count": null,
      "outputs": []
    },
    {
      "cell_type": "code",
      "source": [
        "c.values()"
      ],
      "metadata": {
        "id": "YS1HbExZj7s2"
      },
      "execution_count": null,
      "outputs": []
    },
    {
      "cell_type": "code",
      "source": [
        "c.keys()"
      ],
      "metadata": {
        "id": "cpm7iLO9j7qc"
      },
      "execution_count": null,
      "outputs": []
    },
    {
      "cell_type": "code",
      "source": [
        "c.items()"
      ],
      "metadata": {
        "id": "ORnJ9ltJk9VF"
      },
      "execution_count": null,
      "outputs": []
    }
  ]
}