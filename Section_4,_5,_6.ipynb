{
  "nbformat": 4,
  "nbformat_minor": 0,
  "metadata": {
    "colab": {
      "private_outputs": true,
      "provenance": [],
      "authorship_tag": "ABX9TyN343cQFgDire5UDJzjMAsF",
      "include_colab_link": true
    },
    "kernelspec": {
      "name": "python3",
      "display_name": "Python 3"
    },
    "language_info": {
      "name": "python"
    }
  },
  "cells": [
    {
      "cell_type": "markdown",
      "metadata": {
        "id": "view-in-github",
        "colab_type": "text"
      },
      "source": [
        "<a href=\"https://colab.research.google.com/github/eji58/6-months-data-science-projects/blob/main/Section_4%2C_5%2C_6.ipynb\" target=\"_parent\"><img src=\"https://colab.research.google.com/assets/colab-badge.svg\" alt=\"Open In Colab\"/></a>"
      ]
    },
    {
      "cell_type": "markdown",
      "source": [
        "## Section 4. Control flow \n",
        "1. Conditional Statement (if then and expression ) \n",
        "2. Loops (iterations, lambda)\n",
        "\n",
        "\n",
        "Note: Indentation:\n",
        "\n",
        "Python relies on indentation (whitespace at the beginning of a line) to define scope in the code. Other programming languages often use curly-brackets for this purpose."
      ],
      "metadata": {
        "id": "_LzMxij95OVB"
      }
    },
    {
      "cell_type": "markdown",
      "source": [
        "### **Conditional Statement**\n",
        "\n",
        " learn how to execute a code block based on a condition.\n",
        "\n",
        "* If : statement when you want to run a code block based on a condition.\n",
        "* Elif : statement when you want to run another code block if the condition is not True.\n",
        "* Else : statement when you want to check multiple conditions and run the corresponding code block that follows the condition that evaluates to True.\n",
        "* Using logical operator : used to combine conditional statements.\n",
        "* Nested if..."
      ],
      "metadata": {
        "id": "TcN57Fm9qrXu"
      }
    },
    {
      "cell_type": "markdown",
      "source": [
        "if "
      ],
      "metadata": {
        "id": "0hveD6v3rLKb"
      }
    },
    {
      "cell_type": "code",
      "source": [
        "a, b =20 , 300\n",
        "if b > a:\n",
        "  print(\"b is greater than a\")\n"
      ],
      "metadata": {
        "id": "zfrQRfGr5bYO"
      },
      "execution_count": null,
      "outputs": []
    },
    {
      "cell_type": "code",
      "source": [
        "# in one line \n",
        "if a < b: print(\"a is greater than b\")"
      ],
      "metadata": {
        "id": "mEKM0izVu7tG"
      },
      "execution_count": null,
      "outputs": []
    },
    {
      "cell_type": "markdown",
      "source": [
        "elif"
      ],
      "metadata": {
        "id": "AWttYSeatRmD"
      }
    },
    {
      "cell_type": "code",
      "source": [
        "if b > a:\n",
        "  print(\"b is greater than a\")\n",
        "elif a > b:\n",
        "  print(\"a is greater than b\")"
      ],
      "metadata": {
        "id": "4Ja_hggaqz9u"
      },
      "execution_count": null,
      "outputs": []
    },
    {
      "cell_type": "code",
      "source": [
        "#  in one line \n",
        "print(\"b is greater than a\") if a < b else print(\"a is greater than b\")"
      ],
      "metadata": {
        "id": "aTKCY9zsvGdX"
      },
      "execution_count": null,
      "outputs": []
    },
    {
      "cell_type": "markdown",
      "source": [
        "else"
      ],
      "metadata": {
        "id": "D1L3uHOnuA0D"
      }
    },
    {
      "cell_type": "code",
      "source": [
        "if b > a:\n",
        "  print(\"b is greater than a\")\n",
        "elif a == b:\n",
        "  print(\"a and b are equal\")\n",
        "else:\n",
        "  print(\"a is greater than b\")\n"
      ],
      "metadata": {
        "id": "IZdi7IA2qz6g"
      },
      "execution_count": null,
      "outputs": []
    },
    {
      "cell_type": "code",
      "source": [
        "#  in one line \n",
        "print(\"b is greater than a\") if a < b  else print(\"a is greater than b\") if b < a else print(\"a and b are equal\")\n"
      ],
      "metadata": {
        "id": "zsfMkEKBvg1V"
      },
      "execution_count": null,
      "outputs": []
    },
    {
      "cell_type": "markdown",
      "source": [
        "Using logical operator :\n",
        "\n",
        "and, or, not\n"
      ],
      "metadata": {
        "id": "RnpmRzYRu4zm"
      }
    },
    {
      "cell_type": "code",
      "source": [
        "a, b, c= 200, 20, 55\n",
        "if a > b and b < c:\n",
        "  print(\"Both conditions are true...\")"
      ],
      "metadata": {
        "id": "wvkzu2GGqz3a"
      },
      "execution_count": null,
      "outputs": []
    },
    {
      "cell_type": "code",
      "source": [
        "if a > b or b > c:\n",
        "  print(\"At least one of the conditions is True...\")"
      ],
      "metadata": {
        "id": "xGaZ-ISRwpyq"
      },
      "execution_count": null,
      "outputs": []
    },
    {
      "cell_type": "code",
      "source": [
        "if not b > c:\n",
        "  print(\"b is NOT greater than c\")"
      ],
      "metadata": {
        "id": "lOEdjqQgwppx"
      },
      "execution_count": null,
      "outputs": []
    },
    {
      "cell_type": "markdown",
      "source": [
        "nested if "
      ],
      "metadata": {
        "id": "6euw1FLPxgWJ"
      }
    },
    {
      "cell_type": "code",
      "source": [
        "x=30\n",
        "if x > 10:\n",
        "  print(\"Above ten,\")\n",
        "  if x > 20:\n",
        "    print(\"and also above 20!\")\n",
        "  else:\n",
        "    print(\"but not above 20.\")\n"
      ],
      "metadata": {
        "id": "-NoXJaO0yb9_"
      },
      "execution_count": null,
      "outputs": []
    },
    {
      "cell_type": "code",
      "source": [
        "#  Example\n",
        "age = input('Enter your age:')\n",
        "if int(age) >= 18:\n",
        "    print(\"You're eligible to vote.\")\n",
        "print(\"Let's go and vote.\")"
      ],
      "metadata": {
        "id": "S0YbEpQPz2EY"
      },
      "execution_count": null,
      "outputs": []
    },
    {
      "cell_type": "markdown",
      "source": [
        "### **Loops:**\n",
        "\n",
        "* For loop : used for iterating over a sequence (that is either a list, a tuple, a dictionary, a set, or a string).\n",
        "* While loop :  loop we can execute a set of statements as long as a condition is true.\n",
        "* Break and Contunus statments : the **break** statement we can stop the loop before it has looped through all the item but the **continue** statement we can stop the current iteration of the loop, and continue with the next:\n",
        "* Nested loop :  is a loop inside a loop. "
      ],
      "metadata": {
        "id": "_u7WKLOpqvlw"
      }
    },
    {
      "cell_type": "markdown",
      "source": [
        "for loop"
      ],
      "metadata": {
        "id": "QW9VXa7yRmMP"
      }
    },
    {
      "cell_type": "code",
      "source": [
        "# Looping Through a List\n",
        "fruits = [\"apple\", \"banana\", \"cherry\"]\n",
        "for x in fruits:\n",
        "  print(x)"
      ],
      "metadata": {
        "id": "BCPlfgE57Y2U"
      },
      "execution_count": null,
      "outputs": []
    },
    {
      "cell_type": "code",
      "source": [
        "# Looping Through a String \n",
        "for x in \"banana\":\n",
        "  print(x)"
      ],
      "metadata": {
        "id": "HRXZFIZp7YzW"
      },
      "execution_count": null,
      "outputs": []
    },
    {
      "cell_type": "markdown",
      "source": [
        "break "
      ],
      "metadata": {
        "id": "ofiQ-vjvRqjH"
      }
    },
    {
      "cell_type": "code",
      "source": [
        "for x in fruits:\n",
        "  print(x)\n",
        "  if x == \"banana\":\n",
        "    break"
      ],
      "metadata": {
        "id": "wioV9G6v7YuJ"
      },
      "execution_count": null,
      "outputs": []
    },
    {
      "cell_type": "markdown",
      "source": [
        "continue"
      ],
      "metadata": {
        "id": "5cA5ARLOR2VN"
      }
    },
    {
      "cell_type": "code",
      "source": [
        "for x in fruits:\n",
        "  if x == \"banana\":\n",
        "    continue\n",
        "  print(x)"
      ],
      "metadata": {
        "id": "5aj5z8JRR1jI"
      },
      "execution_count": null,
      "outputs": []
    },
    {
      "cell_type": "markdown",
      "source": [
        "range"
      ],
      "metadata": {
        "id": "w3bYCg4tSD_R"
      }
    },
    {
      "cell_type": "code",
      "source": [
        "# sequence of numbers, starting from 0 by default,\n",
        "#  and increments by 1, and ends a spcified number. \n",
        "for x in range(6):\n",
        "  print(x)"
      ],
      "metadata": {
        "id": "vvMsnxXxSBZs"
      },
      "execution_count": null,
      "outputs": []
    },
    {
      "cell_type": "code",
      "source": [
        "# it is possible to specify the starting value by adding a parameter\n",
        "for x in range(2, 6):\n",
        "  print(x)"
      ],
      "metadata": {
        "id": "l1TgxFvASs3K"
      },
      "execution_count": null,
      "outputs": []
    },
    {
      "cell_type": "code",
      "source": [
        "# possible to specify the increment value by adding a third parameter\n",
        "for x in range(2, 30, 3):\n",
        "  print(x)"
      ],
      "metadata": {
        "id": "bUNFoXGkSBOv"
      },
      "execution_count": null,
      "outputs": []
    },
    {
      "cell_type": "markdown",
      "source": [
        "else in for loop"
      ],
      "metadata": {
        "id": "CfazGwHWTAKt"
      }
    },
    {
      "cell_type": "code",
      "source": [
        "for x in range(6):\n",
        "  print(x)\n",
        "else:\n",
        "  print(\"Finally finished!\")"
      ],
      "metadata": {
        "id": "e0JkwhcdTCeQ"
      },
      "execution_count": null,
      "outputs": []
    },
    {
      "cell_type": "markdown",
      "source": [
        "nested loops"
      ],
      "metadata": {
        "id": "vaoiQfHfTKZK"
      }
    },
    {
      "cell_type": "code",
      "source": [
        "adj = [\"red\", \"big\", \"tasty\"]\n",
        "fruits = [\"apple\", \"banana\", \"cherry\"]\n",
        "\n",
        "for x in adj:\n",
        "  for y in fruits:\n",
        "    print(x, y)"
      ],
      "metadata": {
        "id": "yKHKrSPbTCrM"
      },
      "execution_count": null,
      "outputs": []
    },
    {
      "cell_type": "markdown",
      "source": [
        "while loop"
      ],
      "metadata": {
        "id": "vgtuskP-TkTA"
      }
    },
    {
      "cell_type": "code",
      "source": [
        "i = 1\n",
        "while i < 6:\n",
        "  print(i)\n",
        "  i += 1\n"
      ],
      "metadata": {
        "id": "lKL06UeiTCos"
      },
      "execution_count": null,
      "outputs": []
    },
    {
      "cell_type": "code",
      "source": [
        "# break statement\n",
        "i = 1\n",
        "while i < 6:\n",
        "  print(i)\n",
        "  if i == 3:\n",
        "    break\n",
        "  i += 1"
      ],
      "metadata": {
        "id": "6jkD8TtWS-Q6"
      },
      "execution_count": null,
      "outputs": []
    },
    {
      "cell_type": "code",
      "source": [
        "# continue statement\n",
        "i = 1\n",
        "while i < 6:\n",
        "  i += 1\n",
        "  if i == 3:\n",
        "    continue\n",
        "  print(i)\n"
      ],
      "metadata": {
        "id": "0_1mGNRPT0H8"
      },
      "execution_count": null,
      "outputs": []
    },
    {
      "cell_type": "code",
      "source": [
        "# else statement\n",
        "i = 1\n",
        "while i < 6:\n",
        "  print(i)\n",
        "  i += 1\n",
        "else:\n",
        "  print(\"i is no longer less than 6\")"
      ],
      "metadata": {
        "id": "ClI9id5CT0Er"
      },
      "execution_count": null,
      "outputs": []
    },
    {
      "cell_type": "code",
      "source": [
        "#  example\n",
        "\n",
        "command = ''\n",
        "\n",
        "while command.lower() != 'quit':\n",
        "    command = input('write something>')\n",
        "    print(f\"Echo: {command}\")"
      ],
      "metadata": {
        "id": "KqtTqDskT0Bo"
      },
      "execution_count": null,
      "outputs": []
    },
    {
      "cell_type": "markdown",
      "source": [
        "## Section 6. Programming Paradigms:\n",
        "1. Functional Programming\n",
        "2. Object-Oriented Programming (objects and classes)\n",
        "\n",
        "\n"
      ],
      "metadata": {
        "id": "9AZ7KMxH5N-e"
      }
    },
    {
      "cell_type": "markdown",
      "source": [
        "### **Functional:**\n",
        "\n",
        "A function is a block of code which only runs when it is called.\n",
        "\n",
        "* Defining\n",
        "* Calling\n",
        "* Parameters vs. Arguments\n",
        "* Returning a value\n",
        "\n"
      ],
      "metadata": {
        "id": "rZQNOYqka7ys"
      }
    },
    {
      "cell_type": "code",
      "source": [
        "# defining\n",
        "def greet():\n",
        "    print('Hi')"
      ],
      "metadata": {
        "id": "tAf_KM7ja6Sn"
      },
      "execution_count": null,
      "outputs": []
    },
    {
      "cell_type": "code",
      "execution_count": null,
      "metadata": {
        "id": "hctyzFSi44Kw"
      },
      "outputs": [],
      "source": [
        "# calling\n",
        "greet()\n"
      ]
    },
    {
      "cell_type": "markdown",
      "source": [
        "**Parameters vs. Arguments**\n",
        "\n",
        "\n",
        "A **parameter** is a piece of information that a function needs. And you specify the parameter in the function definition. \n",
        "\n",
        "\n",
        "An **argument** is a piece of data that you pass into the function when it *calling*.  "
      ],
      "metadata": {
        "id": "f_bl1yC4dXCa"
      }
    },
    {
      "cell_type": "code",
      "source": [
        "def greet(name):\n",
        "    print(f\"Hi {name}\")"
      ],
      "metadata": {
        "id": "o8aAUchTdIvW"
      },
      "execution_count": null,
      "outputs": []
    },
    {
      "cell_type": "code",
      "source": [
        "greet(\"Esraa\")"
      ],
      "metadata": {
        "id": "RXKRMZvzdIru"
      },
      "execution_count": null,
      "outputs": []
    },
    {
      "cell_type": "markdown",
      "source": [
        "Returning a value\n"
      ],
      "metadata": {
        "id": "p4XoOqeUeYo2"
      }
    },
    {
      "cell_type": "code",
      "source": [
        "def greet(name):\n",
        "    return f\"Hi {name}\""
      ],
      "metadata": {
        "id": "yOrnG1CQdIon"
      },
      "execution_count": null,
      "outputs": []
    },
    {
      "cell_type": "code",
      "source": [
        "a=greet(\"Esraa\")\n",
        "print(a)\n"
      ],
      "metadata": {
        "id": "1KRqg33renr5"
      },
      "execution_count": null,
      "outputs": []
    },
    {
      "cell_type": "code",
      "source": [
        "def sum(a, b):\n",
        "    return a + b\n",
        "\n",
        "\n",
        "total = sum(10,20)\n",
        "print(total)"
      ],
      "metadata": {
        "id": "f3bvnv-PfEJQ"
      },
      "execution_count": null,
      "outputs": []
    },
    {
      "cell_type": "code",
      "source": [
        "def get_net_price(price, discount):\n",
        "    return price * (1-discount)"
      ],
      "metadata": {
        "id": "KdF61VoHfvBL"
      },
      "execution_count": null,
      "outputs": []
    },
    {
      "cell_type": "code",
      "source": [
        "get_net_price(100, 0.1)\n"
      ],
      "metadata": {
        "id": "D8Q8zfL3f0fx"
      },
      "execution_count": null,
      "outputs": []
    },
    {
      "cell_type": "markdown",
      "source": [
        "**Keyword arguments and default parameters**\n",
        "\n",
        "Suppose that you have the following get_net_price() function that calculates the net price from the selling price, tax, and discount."
      ],
      "metadata": {
        "id": "RZDCTnjNgeNp"
      }
    },
    {
      "cell_type": "code",
      "source": [
        "# if the tax and discount parameters have default \n",
        "# values of 7% and 5% respectively.\n",
        "def get_net_price(price, tax=0.07, discount=0.05):\n",
        "    return price * (1 + tax - discount)"
      ],
      "metadata": {
        "id": "vokPx6aIgKTn"
      },
      "execution_count": null,
      "outputs": []
    },
    {
      "cell_type": "code",
      "source": [
        "get_net_price(100)"
      ],
      "metadata": {
        "id": "f2UnvyyMg1kE"
      },
      "execution_count": null,
      "outputs": []
    },
    {
      "cell_type": "markdown",
      "source": [
        "lambda "
      ],
      "metadata": {
        "id": "HVm6OlKi5amL"
      }
    },
    {
      "cell_type": "code",
      "source": [
        "def get_full_name(first_name, last_name):\n",
        "    return print(first_name, last_name)"
      ],
      "metadata": {
        "id": "PlC-fEMlg1gq"
      },
      "execution_count": null,
      "outputs": []
    },
    {
      "cell_type": "code",
      "source": [
        "get_full_name(\"Esraa\",\"Sultan\")"
      ],
      "metadata": {
        "id": "uPs7-11K6J_l"
      },
      "execution_count": null,
      "outputs": []
    },
    {
      "cell_type": "code",
      "source": [
        "get_full_name1= lambda fname, lname : print(fname, lname)\n",
        "\n",
        "get_full_name1(\"Esraa\",\"Sultan\")\n"
      ],
      "metadata": {
        "id": "MDFksJv9g1Sh"
      },
      "execution_count": null,
      "outputs": []
    },
    {
      "cell_type": "markdown",
      "source": [
        "###Classe:\n",
        "\n",
        "\n",
        "1. Classes\n",
        "2. Objects\n",
        "3. Methods and Attributes\n",
        "4. Inheritance and Its Types\n",
        "5. Overloading\n",
        "6. Overriding\n",
        "7. Data Hiding\n"
      ],
      "metadata": {
        "id": "2aZsHkAfgmcC"
      }
    },
    {
      "cell_type": "markdown",
      "source": [
        "defined a class..."
      ],
      "metadata": {
        "id": "nrsCTmbOWAAh"
      }
    },
    {
      "cell_type": "code",
      "source": [
        "class Person:\n",
        "  pass     # statement mean no operation"
      ],
      "metadata": {
        "id": "ZO7omq5uV_oB"
      },
      "execution_count": null,
      "outputs": []
    },
    {
      "cell_type": "markdown",
      "source": [
        "object"
      ],
      "metadata": {
        "id": "v4cacQv5WbXG"
      }
    },
    {
      "cell_type": "code",
      "source": [
        "p = Person()"
      ],
      "metadata": {
        "id": "LUpzPXschMcl"
      },
      "execution_count": null,
      "outputs": []
    },
    {
      "cell_type": "markdown",
      "source": [
        "define instance attributes"
      ],
      "metadata": {
        "id": "205gdWGkWnfk"
      }
    },
    {
      "cell_type": "code",
      "source": [
        "# Python is dynamic. It means that you can add an attribute to an \n",
        "# instance of a class dynamically at runtime.\n",
        "p.name=\"esraa\""
      ],
      "metadata": {
        "id": "c-x8Lor7hMXB"
      },
      "execution_count": null,
      "outputs": []
    },
    {
      "cell_type": "code",
      "source": [
        "p.name"
      ],
      "metadata": {
        "id": "qCCWSCJghMTk"
      },
      "execution_count": null,
      "outputs": []
    },
    {
      "cell_type": "markdown",
      "source": [
        "Constructor:\n",
        "\n",
        "constructor are special member method of a class. Python automatically calls the__init__\n",
        " method to initialize the instance attributes. In the __init__ method, the self is the instance of the Person class."
      ],
      "metadata": {
        "id": "fspf6DfBXjDZ"
      }
    },
    {
      "cell_type": "code",
      "source": [
        "class Person:\n",
        "  # name and age are an attributes\n",
        "    def __init__(self, name, age):\n",
        "        self.name = name\n",
        "        self.age = age"
      ],
      "metadata": {
        "id": "F6CI37YyXZ3e"
      },
      "execution_count": null,
      "outputs": []
    },
    {
      "cell_type": "code",
      "source": [
        "person = Person('Esraa', 25)"
      ],
      "metadata": {
        "id": "brWRfRJlXZxT"
      },
      "execution_count": null,
      "outputs": []
    },
    {
      "cell_type": "code",
      "source": [
        "person.name, person.age"
      ],
      "metadata": {
        "id": "fIVgek7FXZuT"
      },
      "execution_count": null,
      "outputs": []
    },
    {
      "cell_type": "markdown",
      "source": [
        "Define instance methods\n"
      ],
      "metadata": {
        "id": "fZ2GMTZra4jb"
      }
    },
    {
      "cell_type": "code",
      "source": [
        "class Person:\n",
        "    def __init__(self, name, age):\n",
        "        self.name = name\n",
        "        self.age = age\n",
        "\n",
        "    def greet(self):\n",
        "        return f\"Hi, it's {self.name}!\""
      ],
      "metadata": {
        "id": "SwETzlzlXZpB"
      },
      "execution_count": null,
      "outputs": []
    },
    {
      "cell_type": "code",
      "source": [
        "person = Person('Esraa', 25)\n",
        "person.greet()"
      ],
      "metadata": {
        "id": "ZCVuSsNKXZmL"
      },
      "execution_count": null,
      "outputs": []
    },
    {
      "cell_type": "markdown",
      "source": [
        "Define class attributes\n"
      ],
      "metadata": {
        "id": "ppOISlEgbOmi"
      }
    },
    {
      "cell_type": "code",
      "source": [
        "class Person:\n",
        "    counter = 0\n",
        "\n",
        "    def __init__(self, name, age):\n",
        "        self.name = name\n",
        "        self.age = age\n",
        "        Person.counter += 1\n",
        "\n",
        "    def greet(self):\n",
        "        return f\"Hi, it's {self.name}.\""
      ],
      "metadata": {
        "id": "7P5tpi-sbZ6z"
      },
      "execution_count": null,
      "outputs": []
    },
    {
      "cell_type": "code",
      "source": [
        "person = Person('Esraa', 25)\n",
        "person.greet()"
      ],
      "metadata": {
        "id": "C5BthT-IfC6h"
      },
      "execution_count": null,
      "outputs": []
    },
    {
      "cell_type": "code",
      "source": [],
      "metadata": {
        "id": "-0Lj6nCvfu7Q"
      },
      "execution_count": null,
      "outputs": []
    },
    {
      "cell_type": "code",
      "source": [
        "person2 = Person('Sultan', 52)\n",
        "person.counter"
      ],
      "metadata": {
        "id": "Kmh9AgxFfFA0"
      },
      "execution_count": null,
      "outputs": []
    },
    {
      "cell_type": "markdown",
      "source": [
        "Define class method\n",
        "\n",
        "\n",
        "class method is shared by all instances of the class. The first argument of a class method is the class itself. By convention, its name is cls. Python automatically passes this argument to the class method. Also, you use the @classmethod decorator to decorate a class method."
      ],
      "metadata": {
        "id": "cWBZK2bWbaPa"
      }
    },
    {
      "cell_type": "code",
      "source": [
        "class Person:\n",
        "    counter = 0\n",
        "\n",
        "    def __init__(self, name, age):\n",
        "        self.name = name\n",
        "        self.age = age\n",
        "        Person.counter += 1\n",
        "\n",
        "    def greet(self):\n",
        "        return f\"Hi, it's {self.name}.\"\n",
        "\n",
        "    @classmethod\n",
        "    def create_anonymous(cls):\n",
        "        return Person('Anonymous', 22)"
      ],
      "metadata": {
        "id": "gu8NzAUBfmBy"
      },
      "execution_count": null,
      "outputs": []
    },
    {
      "cell_type": "markdown",
      "source": [
        "Inheritance:\n",
        "\n",
        "Acquiring properties of one class into another.\n",
        "\n",
        "* single level\n",
        "* multilevel\n",
        "* hierarchical\n",
        "* multiple\n",
        "* hybrid"
      ],
      "metadata": {
        "id": "B23Wm7mTepUk"
      }
    },
    {
      "cell_type": "code",
      "source": [
        "# example of single level \n",
        "\n",
        "class Employee(Person):\n",
        "\n",
        "    def __init__(self, name, age, job_title):\n",
        "        super().__init__(name, age)\n",
        "        self.job_title = job_title\n",
        "\n",
        "    def greet(self):\n",
        "        return super().greet() + f\" I'm a {self.job_title}.\""
      ],
      "metadata": {
        "id": "SSkeW2hxSMa9"
      },
      "execution_count": null,
      "outputs": []
    },
    {
      "cell_type": "code",
      "source": [
        "employee = Employee('Esraa', 25, 'Python Developer')\n",
        "print(employee.greet())"
      ],
      "metadata": {
        "id": "TtKjx85bSMXY"
      },
      "execution_count": null,
      "outputs": []
    },
    {
      "cell_type": "code",
      "source": [],
      "metadata": {
        "id": "IoDcqyNFSLmg"
      },
      "execution_count": null,
      "outputs": []
    },
    {
      "cell_type": "code",
      "source": [],
      "metadata": {
        "id": "XbQL7BfoSLjC"
      },
      "execution_count": null,
      "outputs": []
    },
    {
      "cell_type": "markdown",
      "source": [
        "simple project>>>\n",
        "\n",
        "\n",
        "Create a classas that can print the shape info and calculate area and perimeter of circle, rectangle, square and triangle."
      ],
      "metadata": {
        "id": "ImSSV0rmeU8K"
      }
    },
    {
      "cell_type": "code",
      "source": [
        "#                       Shape\n",
        "#           /       /         \\       \\\n",
        "#        Circle  Triangle   Square   Rectangle  \n",
        "# "
      ],
      "metadata": {
        "id": "BtnTRS4ySLfd"
      },
      "execution_count": null,
      "outputs": []
    },
    {
      "cell_type": "code",
      "source": [
        "class Shape():\n",
        "    def __init__(self, name , color):\n",
        "        self.name = name\n",
        "        self.color = color\n",
        "\n",
        "    def ShapeName(self):\n",
        "        return \"the shape is \"+ self.name +\" and its color is \"+ self.color\n",
        "\n"
      ],
      "metadata": {
        "id": "9W-zuheESKJA"
      },
      "execution_count": null,
      "outputs": []
    },
    {
      "cell_type": "code",
      "source": [
        "class Circle(Shape):\n",
        "    def __init__(self, r,name, color):\n",
        "      super().__init__(name, color)\n",
        "      self.radius = r\n",
        "\n",
        "    def area(self):\n",
        "        return self.radius**2*3.14\n",
        "    \n",
        "    def perimeter(self):\n",
        "        return 2*self.radius*3.14"
      ],
      "metadata": {
        "id": "6-keHLiZZoHW"
      },
      "execution_count": null,
      "outputs": []
    },
    {
      "cell_type": "code",
      "source": [
        "class Triangle(Shape):\n",
        "    def __init__(self, base_length, height, name, color):\n",
        "        super().__init__(name, color)\n",
        "        self.base_length = base_length \n",
        "        self.height =  height\n",
        "\n",
        "    def area(self):\n",
        "        return 0.5* self.base_length * self.height\n",
        "    \n",
        "    def perimeter(self):\n",
        "        return  self.base_length + self.base_length + self.height"
      ],
      "metadata": {
        "id": "KjLoa3qcZoEX"
      },
      "execution_count": null,
      "outputs": []
    },
    {
      "cell_type": "code",
      "source": [
        "class Square(Shape):\n",
        "    def __init__(self, s, name, color):\n",
        "        super().__init__(name, color)\n",
        "        self.side_size = s\n",
        "        \n",
        "    def area(self):\n",
        "        return self.side_size * self.side_size\n",
        "    \n",
        "    def perimeter(self):\n",
        "        return 4 * self.side_size"
      ],
      "metadata": {
        "id": "4kn5sav6ZoBo"
      },
      "execution_count": null,
      "outputs": []
    },
    {
      "cell_type": "code",
      "source": [
        "class Rectangle(Shape):\n",
        "    def __init__(self, w, l, name, color):\n",
        "        super().__init__(name, color)\n",
        "        self.width =  w\n",
        "        self.length =  l\n",
        "        \n",
        "    def area(self):\n",
        "        return self.width * self.length\n",
        "    \n",
        "    def perimeter(self):\n",
        "        return  2*self.width + 2*self.length\n"
      ],
      "metadata": {
        "id": "iP675i8ulQ09"
      },
      "execution_count": null,
      "outputs": []
    },
    {
      "cell_type": "code",
      "source": [
        "c = Circle(5,\"Circle\",\"red\")\n",
        "print(c.ShapeName() , \"\\n the area is \", c.area(),\" and the perimeter is \" ,c.perimeter())\n"
      ],
      "metadata": {
        "id": "d51YOxgepQO6"
      },
      "execution_count": null,
      "outputs": []
    },
    {
      "cell_type": "code",
      "source": [
        "t = Triangle(5,3,\"triangle\",\"Blue\")\n",
        "print(t.ShapeName() , \"\\n the area is \", t.area(),\" and the perimeter is \" ,t.perimeter())\n"
      ],
      "metadata": {
        "id": "NvgIMPZupQMP"
      },
      "execution_count": null,
      "outputs": []
    },
    {
      "cell_type": "code",
      "source": [
        "r = Rectangle(5,3,\"rectangle\",\"yellow\")\n",
        "print(r.ShapeName() , \"\\n the area is \", r.area(),\" and the perimeter is \" ,r.perimeter())\n"
      ],
      "metadata": {
        "id": "foSPw5UBpQJq"
      },
      "execution_count": null,
      "outputs": []
    },
    {
      "cell_type": "code",
      "source": [
        "s = Square(5,\"square\",\"pink\")\n",
        "print(s.ShapeName() , \"\\n the area is \", s.area(),\" and the perimeter is \" ,s.perimeter())\n"
      ],
      "metadata": {
        "id": "eGXnJ6-ypQHD"
      },
      "execution_count": null,
      "outputs": []
    },
    {
      "cell_type": "markdown",
      "source": [
        "## Section 7. Handling expations\n",
        "1. try…except – show how to handle exceptions more gracefully using the try…except statement.\n",
        "2. try…except…finally – learn how to execute a code block whether an exception occurs or not.\n",
        "3. try…except…else – explain to how to use the try…except…else statement to control the follow of the program in case of exceptions.\n",
        "\n",
        "\n"
      ],
      "metadata": {
        "id": "9m-lAg3N5bkd"
      }
    },
    {
      "cell_type": "code",
      "source": [
        "try:\n",
        "  a=int(input(\" enter the first num:\"))\n",
        "  b=int(input(\" enter the last num:\"))\n",
        "  print(a/b)\n",
        "  print(\"Finish\")\n",
        "except ZeroDivisionError:\n",
        "  print(\"An Error Occured!!!!!\")\n"
      ],
      "metadata": {
        "id": "drC_Wh7M0mTk"
      },
      "execution_count": null,
      "outputs": []
    },
    {
      "cell_type": "code",
      "source": [
        "try:\n",
        "    a=int(input(\" enter the first num:\"))\n",
        "    print(\"Hi\" + a)\n",
        "    print(a/2)\n",
        "except ZeroDivisionError:\n",
        "    print(\"Do not Divide by Zero\")\n",
        "except (ValueError, TypeError):\n",
        "    print(\"Error Occured\")"
      ],
      "metadata": {
        "id": "gIABCjBU0mQN"
      },
      "execution_count": null,
      "outputs": []
    },
    {
      "cell_type": "markdown",
      "source": [
        "else"
      ],
      "metadata": {
        "id": "VKMs8uupB1WK"
      }
    },
    {
      "cell_type": "code",
      "source": [
        "try:\n",
        "    print(1/0)\n",
        "except ZeroDivisionError:\n",
        "    print(2)\n",
        "else:\n",
        "    print(3)"
      ],
      "metadata": {
        "id": "Ap9YfAkP0mNB"
      },
      "execution_count": null,
      "outputs": []
    },
    {
      "cell_type": "markdown",
      "source": [
        "finally"
      ],
      "metadata": {
        "id": "O5Obk8GmCAig"
      }
    },
    {
      "cell_type": "code",
      "source": [
        "try:\n",
        "    print(\"Hello\")\n",
        "except:\n",
        "    print(\"Error\")\n",
        "finally:\n",
        "    print(\"Finally Block\")"
      ],
      "metadata": {
        "id": "zUSkrFPeCBON"
      },
      "execution_count": null,
      "outputs": []
    }
  ]
}